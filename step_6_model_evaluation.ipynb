{
 "cells": [
  {
   "cell_type": "markdown",
   "id": "b445cfb0-56fd-4677-847e-76c78464101b",
   "metadata": {},
   "source": [
    "# Step-6 Notebook for loading and evaluating the saved models"
   ]
  },
  {
   "cell_type": "code",
   "execution_count": 1,
   "id": "a4a5695f",
   "metadata": {
    "tags": []
   },
   "outputs": [],
   "source": [
    "import numpy as np\n",
    "from sklearn import datasets\n",
    "from sklearn.model_selection import train_test_split\n",
    "from sklearn.preprocessing import StandardScaler\n",
    "from sklearn.svm import SVC\n",
    "from sklearn.metrics import classification_report, accuracy_score, confusion_matrix\n",
    "import pandas as pd\n",
    "import matplotlib.pyplot as plt\n",
    "import os\n",
    "from tensorflow.keras.models import load_model"
   ]
  },
  {
   "cell_type": "code",
   "execution_count": 4,
   "id": "52993470-dc7c-401a-aff7-c6a8a78f036b",
   "metadata": {
    "tags": []
   },
   "outputs": [],
   "source": [
    "# !pip install seaborn"
   ]
  },
  {
   "cell_type": "code",
   "execution_count": 5,
   "id": "14597cad-4f1b-4dea-bf15-e14410eac9de",
   "metadata": {
    "tags": []
   },
   "outputs": [],
   "source": [
    "import seaborn as sns"
   ]
  },
  {
   "cell_type": "markdown",
   "id": "f43b14a6-c064-46cd-a477-ad342a52b973",
   "metadata": {},
   "source": [
    "### Loading the training, validation and test dataset"
   ]
  },
  {
   "cell_type": "code",
   "execution_count": 6,
   "id": "37b613d8",
   "metadata": {
    "tags": []
   },
   "outputs": [],
   "source": [
    "import pickle\n",
    "processed_training_data_path = \"./flowcam_split_data/plankton_data_101x64_final.pkl\"\n",
    "#load corresponding class dict\n",
    "class_dict = np.load(\"./flowcam_split_data/class_dict.npy\",allow_pickle=True)\n",
    "class_dict=dict(class_dict.tolist())\n",
    "with open(processed_training_data_path, 'rb') as file:\n",
    "    trainAttrX, valAttrX, testAttrX, trainImagesX, \\\n",
    "        valImagesX, testImagesX, y_train, y_val, y_test = pickle.load(file)"
   ]
  },
  {
   "cell_type": "code",
   "execution_count": 7,
   "id": "04950dd4",
   "metadata": {
    "tags": []
   },
   "outputs": [],
   "source": [
    "y=[np.where(r==1)[0][0] for r in y_train]"
   ]
  },
  {
   "cell_type": "code",
   "execution_count": 8,
   "id": "38bfd981",
   "metadata": {
    "tags": []
   },
   "outputs": [],
   "source": [
    "yv=[np.where(r==1)[0][0] for r in y_val]"
   ]
  },
  {
   "cell_type": "code",
   "execution_count": 9,
   "id": "769eaa1a",
   "metadata": {
    "tags": []
   },
   "outputs": [],
   "source": [
    "yt=[np.where(r==1)[0][0] for r in y_test]"
   ]
  },
  {
   "cell_type": "markdown",
   "id": "fffee241-e9d7-4d72-9852-f3239c8c1c81",
   "metadata": {
    "tags": []
   },
   "source": [
    "### Loading the trained model "
   ]
  },
  {
   "cell_type": "code",
   "execution_count": 10,
   "id": "0362346a-fdd2-43aa-b148-38a9bb1d8db2",
   "metadata": {
    "tags": []
   },
   "outputs": [
    {
     "name": "stderr",
     "output_type": "stream",
     "text": [
      "2024-08-14 16:52:29.695856: I tensorflow/core/platform/cpu_feature_guard.cc:193] This TensorFlow binary is optimized with oneAPI Deep Neural Network Library (oneDNN) to use the following CPU instructions in performance-critical operations:  SSE4.1 SSE4.2 AVX AVX2 FMA\n",
      "To enable them in other operations, rebuild TensorFlow with the appropriate compiler flags.\n",
      "2024-08-14 16:52:31.382962: I tensorflow/core/common_runtime/gpu/gpu_device.cc:1532] Created device /job:localhost/replica:0/task:0/device:GPU:0 with 30965 MB memory:  -> device: 0, name: Tesla V100-SXM2-32GB-LS, pci bus id: 0000:86:00.0, compute capability: 7.0\n",
      "2024-08-14 16:52:31.386679: I tensorflow/core/common_runtime/gpu/gpu_device.cc:1532] Created device /job:localhost/replica:0/task:0/device:GPU:1 with 30965 MB memory:  -> device: 1, name: Tesla V100-SXM2-32GB-LS, pci bus id: 0000:89:00.0, compute capability: 7.0\n"
     ]
    }
   ],
   "source": [
    "model=load_model(\"./trained_models/cnn3_with_aug_model.h5\")"
   ]
  },
  {
   "cell_type": "code",
   "execution_count": 11,
   "id": "984280f7-ce53-4f35-b326-b3994dea2929",
   "metadata": {
    "tags": []
   },
   "outputs": [
    {
     "name": "stdout",
     "output_type": "stream",
     "text": [
      "Model: \"model_1\"\n",
      "__________________________________________________________________________________________________\n",
      " Layer (type)                   Output Shape         Param #     Connected to                     \n",
      "==================================================================================================\n",
      " input_2 (InputLayer)           [(None, 101, 64, 3)  0           []                               \n",
      "                                ]                                                                 \n",
      "                                                                                                  \n",
      " conv2d_9 (Conv2D)              (None, 101, 64, 64)  9472        ['input_2[0][0]']                \n",
      "                                                                                                  \n",
      " batch_normalization_7 (BatchNo  (None, 101, 64, 64)  256        ['conv2d_9[0][0]']               \n",
      " rmalization)                                                                                     \n",
      "                                                                                                  \n",
      " max_pooling2d_1 (MaxPooling2D)  (None, 50, 32, 64)  0           ['batch_normalization_7[0][0]']  \n",
      "                                                                                                  \n",
      " conv2d_10 (Conv2D)             (None, 50, 32, 64)   36928       ['max_pooling2d_1[0][0]']        \n",
      "                                                                                                  \n",
      " batch_normalization_8 (BatchNo  (None, 50, 32, 64)  256         ['conv2d_10[0][0]']              \n",
      " rmalization)                                                                                     \n",
      "                                                                                                  \n",
      " conv2d_11 (Conv2D)             (None, 50, 32, 64)   36928       ['batch_normalization_8[0][0]']  \n",
      "                                                                                                  \n",
      " batch_normalization_9 (BatchNo  (None, 50, 32, 64)  256         ['conv2d_11[0][0]']              \n",
      " rmalization)                                                                                     \n",
      "                                                                                                  \n",
      " add_3 (Add)                    (None, 50, 32, 64)   0           ['batch_normalization_9[0][0]',  \n",
      "                                                                  'max_pooling2d_1[0][0]']        \n",
      "                                                                                                  \n",
      " activation_3 (Activation)      (None, 50, 32, 64)   0           ['add_3[0][0]']                  \n",
      "                                                                                                  \n",
      " conv2d_13 (Conv2D)             (None, 50, 32, 128)  73856       ['activation_3[0][0]']           \n",
      "                                                                                                  \n",
      " batch_normalization_10 (BatchN  (None, 50, 32, 128)  512        ['conv2d_13[0][0]']              \n",
      " ormalization)                                                                                    \n",
      "                                                                                                  \n",
      " conv2d_14 (Conv2D)             (None, 50, 32, 128)  147584      ['batch_normalization_10[0][0]'] \n",
      "                                                                                                  \n",
      " batch_normalization_11 (BatchN  (None, 50, 32, 128)  512        ['conv2d_14[0][0]']              \n",
      " ormalization)                                                                                    \n",
      "                                                                                                  \n",
      " conv2d_12 (Conv2D)             (None, 50, 32, 128)  8320        ['activation_3[0][0]']           \n",
      "                                                                                                  \n",
      " add_4 (Add)                    (None, 50, 32, 128)  0           ['batch_normalization_11[0][0]', \n",
      "                                                                  'conv2d_12[0][0]']              \n",
      "                                                                                                  \n",
      " activation_4 (Activation)      (None, 50, 32, 128)  0           ['add_4[0][0]']                  \n",
      "                                                                                                  \n",
      " conv2d_16 (Conv2D)             (None, 50, 32, 256)  295168      ['activation_4[0][0]']           \n",
      "                                                                                                  \n",
      " batch_normalization_12 (BatchN  (None, 50, 32, 256)  1024       ['conv2d_16[0][0]']              \n",
      " ormalization)                                                                                    \n",
      "                                                                                                  \n",
      " conv2d_17 (Conv2D)             (None, 50, 32, 256)  590080      ['batch_normalization_12[0][0]'] \n",
      "                                                                                                  \n",
      " batch_normalization_13 (BatchN  (None, 50, 32, 256)  1024       ['conv2d_17[0][0]']              \n",
      " ormalization)                                                                                    \n",
      "                                                                                                  \n",
      " conv2d_15 (Conv2D)             (None, 50, 32, 256)  33024       ['activation_4[0][0]']           \n",
      "                                                                                                  \n",
      " add_5 (Add)                    (None, 50, 32, 256)  0           ['batch_normalization_13[0][0]', \n",
      "                                                                  'conv2d_15[0][0]']              \n",
      "                                                                                                  \n",
      " activation_5 (Activation)      (None, 50, 32, 256)  0           ['add_5[0][0]']                  \n",
      "                                                                                                  \n",
      " avg_pool (GlobalAveragePooling  (None, 256)         0           ['activation_5[0][0]']           \n",
      " 2D)                                                                                              \n",
      "                                                                                                  \n",
      " dropout_1 (Dropout)            (None, 256)          0           ['avg_pool[0][0]']               \n",
      "                                                                                                  \n",
      " dense_1 (Dense)                (None, 4)            1028        ['dropout_1[0][0]']              \n",
      "                                                                                                  \n",
      "==================================================================================================\n",
      "Total params: 1,236,228\n",
      "Trainable params: 1,234,308\n",
      "Non-trainable params: 1,920\n",
      "__________________________________________________________________________________________________\n"
     ]
    }
   ],
   "source": [
    "model.summary()"
   ]
  },
  {
   "cell_type": "code",
   "execution_count": 12,
   "id": "475ff817-f4f7-4d50-9892-f192e234e9a8",
   "metadata": {
    "tags": []
   },
   "outputs": [
    {
     "data": {
      "text/plain": [
       "(23, 101, 64, 3)"
      ]
     },
     "execution_count": 12,
     "metadata": {},
     "output_type": "execute_result"
    }
   ],
   "source": [
    "testImagesX.shape"
   ]
  },
  {
   "cell_type": "markdown",
   "id": "cb926dfb-4fbc-4b6b-b5c0-d77b6aa680ba",
   "metadata": {},
   "source": [
    "### Running the predictions"
   ]
  },
  {
   "cell_type": "code",
   "execution_count": 13,
   "id": "5b370b7e-6d0c-420f-bd4d-458beb894187",
   "metadata": {
    "tags": []
   },
   "outputs": [
    {
     "name": "stderr",
     "output_type": "stream",
     "text": [
      "2024-08-14 16:52:33.545349: I tensorflow/stream_executor/cuda/cuda_dnn.cc:384] Loaded cuDNN version 8401\n"
     ]
    },
    {
     "name": "stdout",
     "output_type": "stream",
     "text": [
      "1/1 [==============================] - 3s 3s/step\n"
     ]
    }
   ],
   "source": [
    "\"\"\"for fusion model comment out #1 and uncomment #2 below for Fusion model\"\"\"\n",
    "y_pred=model.predict(testImagesX) #1\n",
    "# y_pred=model.predict([testImagesX,testAttrX]) #2"
   ]
  },
  {
   "cell_type": "code",
   "execution_count": 14,
   "id": "2f6fe83d-c164-480b-85a9-2694866ea159",
   "metadata": {
    "tags": []
   },
   "outputs": [],
   "source": [
    "y_pred1=[np.where(i==max(i))[0][0] for i in y_pred]\n",
    "y_test1=[np.where(i==max(i))[0][0] for i in y_test]"
   ]
  },
  {
   "cell_type": "markdown",
   "id": "61edd53a-37ea-483c-a45f-ef859624578f",
   "metadata": {},
   "source": [
    "### Generate classification report"
   ]
  },
  {
   "cell_type": "code",
   "execution_count": 15,
   "id": "1131d35d-8e8e-4129-b569-8a971628cb99",
   "metadata": {
    "tags": []
   },
   "outputs": [],
   "source": [
    "report_dict = classification_report(y_test1, y_pred1, zero_division=1,output_dict=True)\n",
    "# Convert the dictionary to a DataFrame\n",
    "report_df = pd.DataFrame.from_dict(report_dict).transpose()"
   ]
  },
  {
   "cell_type": "code",
   "execution_count": 16,
   "id": "f77978df-46a0-4ef3-bc9b-66b2cfec14c3",
   "metadata": {
    "tags": []
   },
   "outputs": [
    {
     "data": {
      "text/html": [
       "<div>\n",
       "<style scoped>\n",
       "    .dataframe tbody tr th:only-of-type {\n",
       "        vertical-align: middle;\n",
       "    }\n",
       "\n",
       "    .dataframe tbody tr th {\n",
       "        vertical-align: top;\n",
       "    }\n",
       "\n",
       "    .dataframe thead th {\n",
       "        text-align: right;\n",
       "    }\n",
       "</style>\n",
       "<table border=\"1\" class=\"dataframe\">\n",
       "  <thead>\n",
       "    <tr style=\"text-align: right;\">\n",
       "      <th></th>\n",
       "      <th>precision</th>\n",
       "      <th>recall</th>\n",
       "      <th>f1-score</th>\n",
       "      <th>support</th>\n",
       "    </tr>\n",
       "  </thead>\n",
       "  <tbody>\n",
       "    <tr>\n",
       "      <th>0</th>\n",
       "      <td>0.260870</td>\n",
       "      <td>1.00000</td>\n",
       "      <td>0.413793</td>\n",
       "      <td>6.00000</td>\n",
       "    </tr>\n",
       "    <tr>\n",
       "      <th>1</th>\n",
       "      <td>1.000000</td>\n",
       "      <td>0.00000</td>\n",
       "      <td>0.000000</td>\n",
       "      <td>6.00000</td>\n",
       "    </tr>\n",
       "    <tr>\n",
       "      <th>2</th>\n",
       "      <td>1.000000</td>\n",
       "      <td>0.00000</td>\n",
       "      <td>0.000000</td>\n",
       "      <td>3.00000</td>\n",
       "    </tr>\n",
       "    <tr>\n",
       "      <th>3</th>\n",
       "      <td>1.000000</td>\n",
       "      <td>0.00000</td>\n",
       "      <td>0.000000</td>\n",
       "      <td>8.00000</td>\n",
       "    </tr>\n",
       "    <tr>\n",
       "      <th>accuracy</th>\n",
       "      <td>0.260870</td>\n",
       "      <td>0.26087</td>\n",
       "      <td>0.260870</td>\n",
       "      <td>0.26087</td>\n",
       "    </tr>\n",
       "    <tr>\n",
       "      <th>macro avg</th>\n",
       "      <td>0.815217</td>\n",
       "      <td>0.25000</td>\n",
       "      <td>0.103448</td>\n",
       "      <td>23.00000</td>\n",
       "    </tr>\n",
       "    <tr>\n",
       "      <th>weighted avg</th>\n",
       "      <td>0.807183</td>\n",
       "      <td>0.26087</td>\n",
       "      <td>0.107946</td>\n",
       "      <td>23.00000</td>\n",
       "    </tr>\n",
       "  </tbody>\n",
       "</table>\n",
       "</div>"
      ],
      "text/plain": [
       "              precision   recall  f1-score   support\n",
       "0              0.260870  1.00000  0.413793   6.00000\n",
       "1              1.000000  0.00000  0.000000   6.00000\n",
       "2              1.000000  0.00000  0.000000   3.00000\n",
       "3              1.000000  0.00000  0.000000   8.00000\n",
       "accuracy       0.260870  0.26087  0.260870   0.26087\n",
       "macro avg      0.815217  0.25000  0.103448  23.00000\n",
       "weighted avg   0.807183  0.26087  0.107946  23.00000"
      ]
     },
     "execution_count": 16,
     "metadata": {},
     "output_type": "execute_result"
    }
   ],
   "source": [
    "report_df"
   ]
  },
  {
   "cell_type": "code",
   "execution_count": 17,
   "id": "78d62231-c86d-4942-bbe2-2413bfd2b95e",
   "metadata": {
    "tags": []
   },
   "outputs": [],
   "source": [
    "# !pip install openpyxl"
   ]
  },
  {
   "cell_type": "code",
   "execution_count": 18,
   "id": "163f10a8-d6db-4c8f-a22e-de29694ca262",
   "metadata": {
    "tags": []
   },
   "outputs": [],
   "source": [
    " # Excluding 'accuracy', 'macro avg', 'weighted avg'\n",
    "df2=report_df[:-3]\n",
    "# sort_values(by=\"index\").plot(x='index',y='recall')"
   ]
  },
  {
   "cell_type": "code",
   "execution_count": 19,
   "id": "636e720a-195d-4ce8-9929-9de00b2d7bde",
   "metadata": {
    "tags": []
   },
   "outputs": [],
   "source": [
    "df2.index=df2.index.astype(int)"
   ]
  },
  {
   "cell_type": "code",
   "execution_count": 20,
   "id": "bd16179e-3edc-4373-b9df-7294304eb45b",
   "metadata": {
    "tags": []
   },
   "outputs": [],
   "source": [
    "df2=df2.astype(float)"
   ]
  },
  {
   "cell_type": "code",
   "execution_count": 21,
   "id": "350a8562-61c7-4a43-aae7-1d4c824e6792",
   "metadata": {
    "tags": []
   },
   "outputs": [
    {
     "data": {
      "text/plain": [
       "4"
      ]
     },
     "execution_count": 21,
     "metadata": {},
     "output_type": "execute_result"
    }
   ],
   "source": [
    "set(df2.index.values).__len__()"
   ]
  },
  {
   "cell_type": "code",
   "execution_count": 22,
   "id": "37287cdc-ce66-4fc1-9d91-dd2e88f0b291",
   "metadata": {
    "tags": []
   },
   "outputs": [
    {
     "data": {
      "text/html": [
       "<div>\n",
       "<style scoped>\n",
       "    .dataframe tbody tr th:only-of-type {\n",
       "        vertical-align: middle;\n",
       "    }\n",
       "\n",
       "    .dataframe tbody tr th {\n",
       "        vertical-align: top;\n",
       "    }\n",
       "\n",
       "    .dataframe thead th {\n",
       "        text-align: right;\n",
       "    }\n",
       "</style>\n",
       "<table border=\"1\" class=\"dataframe\">\n",
       "  <thead>\n",
       "    <tr style=\"text-align: right;\">\n",
       "      <th></th>\n",
       "      <th>precision</th>\n",
       "      <th>recall</th>\n",
       "      <th>f1-score</th>\n",
       "      <th>support</th>\n",
       "    </tr>\n",
       "  </thead>\n",
       "  <tbody>\n",
       "    <tr>\n",
       "      <th>0</th>\n",
       "      <td>0.26087</td>\n",
       "      <td>1.0</td>\n",
       "      <td>0.413793</td>\n",
       "      <td>6.0</td>\n",
       "    </tr>\n",
       "    <tr>\n",
       "      <th>1</th>\n",
       "      <td>1.00000</td>\n",
       "      <td>0.0</td>\n",
       "      <td>0.000000</td>\n",
       "      <td>6.0</td>\n",
       "    </tr>\n",
       "    <tr>\n",
       "      <th>2</th>\n",
       "      <td>1.00000</td>\n",
       "      <td>0.0</td>\n",
       "      <td>0.000000</td>\n",
       "      <td>3.0</td>\n",
       "    </tr>\n",
       "    <tr>\n",
       "      <th>3</th>\n",
       "      <td>1.00000</td>\n",
       "      <td>0.0</td>\n",
       "      <td>0.000000</td>\n",
       "      <td>8.0</td>\n",
       "    </tr>\n",
       "  </tbody>\n",
       "</table>\n",
       "</div>"
      ],
      "text/plain": [
       "   precision  recall  f1-score  support\n",
       "0    0.26087     1.0  0.413793      6.0\n",
       "1    1.00000     0.0  0.000000      6.0\n",
       "2    1.00000     0.0  0.000000      3.0\n",
       "3    1.00000     0.0  0.000000      8.0"
      ]
     },
     "execution_count": 22,
     "metadata": {},
     "output_type": "execute_result"
    }
   ],
   "source": [
    "df2"
   ]
  },
  {
   "cell_type": "markdown",
   "id": "5f42b901-c413-429b-9208-a91b6827fdb1",
   "metadata": {},
   "source": [
    "### Generating the bar chart showing sorted F1 score vs category performance of model"
   ]
  },
  {
   "cell_type": "code",
   "execution_count": 23,
   "id": "d7ee1799-b07b-4143-b4e8-09bc481726aa",
   "metadata": {
    "tags": []
   },
   "outputs": [
    {
     "name": "stdout",
     "output_type": "stream",
     "text": [
      "support 8.0\n",
      "total_samples 23.0\n"
     ]
    }
   ],
   "source": [
    "support_max=df2.support.max()\n",
    "print('support',support_max)\n",
    "print('total_samples',df2.support.sum())"
   ]
  },
  {
   "cell_type": "code",
   "execution_count": 24,
   "id": "33c4d408-c012-4966-b667-6f0abc6e5960",
   "metadata": {
    "tags": []
   },
   "outputs": [
    {
     "data": {
      "image/png": "[encoded data removed]",
      "text/plain": [
       "<Figure size 640x480 with 1 Axes>"
      ]
     },
     "metadata": {},
     "output_type": "display_data"
    }
   ],
   "source": [
    "df2['categories']=df2.index.map(lambda x:class_dict[x] )\n",
    "ind=df2.sort_values(by=['f1-score'],ascending=False).index\n",
    "labels=[class_dict[i] for i in ind]\n",
    "fig,ax=plt.subplots()\n",
    "# ['index', 'precision', 'recall', 'f1-score', 'support']\n",
    "df3=df2.drop(columns=['recall','precision'],axis=1).\\\n",
    "sort_values(by=['f1-score'],ascending=False) \n",
    "df3.support=df3.support/support_max\n",
    "df3.plot(kind='bar',ax=ax)#,color=['r','b'])#, figsize=figsize)\n",
    "plt.title('Classification result on sample data')\n",
    "plt.axhline(.5,color='r')\n",
    "plt.axhline(.8,color='g')\n",
    "plt.xlabel('Classes')\n",
    "plt.ylabel('F1_Score')\n",
    "# locs, labels = plt.xticks()\n",
    "plt.xticks(range(len(labels)),labels=df3.categories)#,rotation=45, ha='right')\n",
    "plt.legend(loc='upper right')\n",
    "plt.tight_layout()\n",
    "# plt.savefig(\"./first_draft/cnn_flowcam/classification_test_summary_flowcam_cnn.png\")\n",
    "plt.show()"
   ]
  },
  {
   "cell_type": "code",
   "execution_count": 25,
   "id": "421d81f6-1e6d-4a39-97a2-735107387da7",
   "metadata": {
    "tags": []
   },
   "outputs": [],
   "source": [
    "# Store the classification results\n",
    "# df2.to_excel(\"./results/classification_report_test_with_cat_flowcam_cnn.xlsx\")\n",
    "# df3.to_excel(\"./results/classification_report_test_sorted_with_cat_flowcam_cnn.xlsx\")"
   ]
  },
  {
   "cell_type": "code",
   "execution_count": 26,
   "id": "7cb35f93-48d6-43fc-815d-6c2d16c22ca5",
   "metadata": {
    "tags": []
   },
   "outputs": [],
   "source": [
    "repo_df=df2\n",
    "repo_dfs=repo_df.sort_values(by='f1-score',ascending=False)\n",
    "less_than=repo_dfs[repo_dfs['f1-score']<.5].index.astype(int)"
   ]
  },
  {
   "cell_type": "code",
   "execution_count": 27,
   "id": "66b3b09b-93df-4b21-8aa5-1ade6b942a20",
   "metadata": {
    "tags": []
   },
   "outputs": [
    {
     "data": {
      "text/plain": [
       "4"
      ]
     },
     "execution_count": 27,
     "metadata": {},
     "output_type": "execute_result"
    }
   ],
   "source": [
    "len([class_dict[i] for i in less_than])"
   ]
  },
  {
   "cell_type": "markdown",
   "id": "c304455c-8f4f-4a2b-bf65-a6c2f1e70a45",
   "metadata": {},
   "source": [
    "### Generating the confusion matrix for categories with F1 score less than 0.5"
   ]
  },
  {
   "cell_type": "code",
   "execution_count": 28,
   "id": "71a3ac17-636b-4472-b94a-9d6f7c008e7d",
   "metadata": {
    "tags": []
   },
   "outputs": [],
   "source": [
    "# Generate the confusion matrix\n",
    "conf_matrix = confusion_matrix(y_test1, y_pred1,labels=np.unique(yt))"
   ]
  },
  {
   "cell_type": "code",
   "execution_count": 29,
   "id": "55442768-7ed5-4739-be78-dad4432c7bd3",
   "metadata": {
    "tags": []
   },
   "outputs": [],
   "source": [
    "conf_matrix_normalized = conf_matrix.astype('float') / conf_matrix.sum(axis=1)[:, np.newaxis]"
   ]
  },
  {
   "cell_type": "code",
   "execution_count": 30,
   "id": "34ebd4c6-512e-4997-9ffc-9d2768281dc0",
   "metadata": {
    "tags": []
   },
   "outputs": [],
   "source": [
    "conf_matrix_df=pd.DataFrame(conf_matrix_normalized, index=np.unique(yt), columns=np.unique(yt))"
   ]
  },
  {
   "cell_type": "code",
   "execution_count": 31,
   "id": "da8202a2-b6d3-4bb2-a836-16c231e355ec",
   "metadata": {
    "tags": []
   },
   "outputs": [],
   "source": [
    "conf_matrix_df=conf_matrix_df.loc[repo_dfs[repo_dfs['f1-score']<.5].index.astype(int),:]"
   ]
  },
  {
   "cell_type": "code",
   "execution_count": 32,
   "id": "666a1415-e6aa-48f2-8cf2-bb5a538d81ff",
   "metadata": {
    "tags": []
   },
   "outputs": [
    {
     "data": {
      "text/html": [
       "<div>\n",
       "<style scoped>\n",
       "    .dataframe tbody tr th:only-of-type {\n",
       "        vertical-align: middle;\n",
       "    }\n",
       "\n",
       "    .dataframe tbody tr th {\n",
       "        vertical-align: top;\n",
       "    }\n",
       "\n",
       "    .dataframe thead th {\n",
       "        text-align: right;\n",
       "    }\n",
       "</style>\n",
       "<table border=\"1\" class=\"dataframe\">\n",
       "  <thead>\n",
       "    <tr style=\"text-align: right;\">\n",
       "      <th></th>\n",
       "      <th>0</th>\n",
       "      <th>1</th>\n",
       "      <th>2</th>\n",
       "      <th>3</th>\n",
       "    </tr>\n",
       "  </thead>\n",
       "  <tbody>\n",
       "    <tr>\n",
       "      <th>0</th>\n",
       "      <td>1.0</td>\n",
       "      <td>0.0</td>\n",
       "      <td>0.0</td>\n",
       "      <td>0.0</td>\n",
       "    </tr>\n",
       "    <tr>\n",
       "      <th>1</th>\n",
       "      <td>1.0</td>\n",
       "      <td>0.0</td>\n",
       "      <td>0.0</td>\n",
       "      <td>0.0</td>\n",
       "    </tr>\n",
       "    <tr>\n",
       "      <th>2</th>\n",
       "      <td>1.0</td>\n",
       "      <td>0.0</td>\n",
       "      <td>0.0</td>\n",
       "      <td>0.0</td>\n",
       "    </tr>\n",
       "    <tr>\n",
       "      <th>3</th>\n",
       "      <td>1.0</td>\n",
       "      <td>0.0</td>\n",
       "      <td>0.0</td>\n",
       "      <td>0.0</td>\n",
       "    </tr>\n",
       "  </tbody>\n",
       "</table>\n",
       "</div>"
      ],
      "text/plain": [
       "     0    1    2    3\n",
       "0  1.0  0.0  0.0  0.0\n",
       "1  1.0  0.0  0.0  0.0\n",
       "2  1.0  0.0  0.0  0.0\n",
       "3  1.0  0.0  0.0  0.0"
      ]
     },
     "execution_count": 32,
     "metadata": {},
     "output_type": "execute_result"
    }
   ],
   "source": [
    "conf_matrix_df"
   ]
  },
  {
   "cell_type": "code",
   "execution_count": 33,
   "id": "e704570d-82d9-43aa-8d95-04ca07d60cc9",
   "metadata": {
    "tags": []
   },
   "outputs": [],
   "source": [
    "conf_matrix_df.index=[class_dict[x] for x in conf_matrix_df.index.values]\n",
    "conf_matrix_df.columns=[class_dict[x] for x in conf_matrix_df.columns.values]"
   ]
  },
  {
   "cell_type": "code",
   "execution_count": 34,
   "id": "da2d58e1-822f-4f32-8381-4d919136f9d2",
   "metadata": {
    "tags": []
   },
   "outputs": [
    {
     "data": {
      "image/png": "[encoded data removed]",
      "text/plain": [
       "<Figure size 640x480 with 2 Axes>"
      ]
     },
     "metadata": {},
     "output_type": "display_data"
    }
   ],
   "source": [
    "plt.figure()\n",
    "heatmap=sns.heatmap(conf_matrix_df, fmt=\".1f\", cmap=\"Blues\",annot=True,annot_kws={\"size\": 8})\n",
    "heatmap.xaxis.tick_top()\n",
    "heatmap.tick_params(axis='x', rotation=90)\n",
    "plt.title('Confusion Matrix')\n",
    "plt.xlabel('Predicted Labels')\n",
    "plt.ylabel('True Labels')\n",
    "plt.tight_layout()\n",
    "# plt.savefig('/lustre_scratch/prabgithub/test_folder/flowcam_test/codes_folder/first_draft/cnn_flowcam/confusionmatrix_F1_less_than_05.png')"
   ]
  },
  {
   "cell_type": "code",
   "execution_count": null,
   "id": "4a6d944b",
   "metadata": {},
   "outputs": [],
   "source": []
  },
  {
   "cell_type": "code",
   "execution_count": null,
   "id": "8d22350f-6dcb-46ba-9254-40e31d65c574",
   "metadata": {},
   "outputs": [],
   "source": []
  }
 ],
 "metadata": {
  "kernelspec": {
   "display_name": "Flowcam  Env",
   "language": "python",
   "name": "flwcnn"
  },
  "language_info": {
   "codemirror_mode": {
    "name": "ipython",
    "version": 3
   },
   "file_extension": ".py",
   "mimetype": "text/x-python",
   "name": "python",
   "nbconvert_exporter": "python",
   "pygments_lexer": "ipython3",
   "version": "3.8.15"
  }
 },
 "nbformat": 4,
 "nbformat_minor": 5
}
